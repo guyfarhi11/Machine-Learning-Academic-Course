{
 "cells": [
  {
   "cell_type": "markdown",
   "metadata": {
    "nbgrader": {
     "grade": false,
     "grade_id": "cell-6bd0516e7cb654f5",
     "locked": true,
     "schema_version": 1,
     "solution": false
    }
   },
   "source": [
    "# Exercise 2: Decision Trees\n",
    "\n",
    "## In this exercise we will perform the following:\n",
    "1. Practice OOP in python.\n",
    "2. Implement two impurity measures: Gini and Entropy.\n",
    "3. Construct a decision tree algorithm.\n",
    "4. Prune the tree to achieve better results.\n",
    "5. Visualize your results."
   ]
  },
  {
   "cell_type": "markdown",
   "metadata": {},
   "source": [
    "# I have read and understood the instructions: *** 309882298_206172280 ***"
   ]
  },
  {
   "cell_type": "code",
   "execution_count": 1,
   "metadata": {
    "nbgrader": {
     "grade": false,
     "grade_id": "cell-ed9fe7b1026e33cb",
     "locked": true,
     "schema_version": 1,
     "solution": false
    }
   },
   "outputs": [],
   "source": [
    "import numpy as np\n",
    "import pandas as pd\n",
    "import matplotlib.pyplot as plt\n",
    "\n",
    "# make matplotlib figures appear inline in the notebook\n",
    "%matplotlib inline\n",
    "plt.rcParams['figure.figsize'] = (10.0, 8.0) # set default size of plots\n",
    "plt.rcParams['image.interpolation'] = 'nearest'\n",
    "plt.rcParams['image.cmap'] = 'gray'\n",
    "\n",
    "# Make the notebook automatically reload external python modules\n",
    "%load_ext autoreload\n",
    "%autoreload 2\n",
    "# Ignore warnings\n",
    "import warnings\n",
    "warnings.filterwarnings('ignore')"
   ]
  },
  {
   "cell_type": "markdown",
   "metadata": {
    "nbgrader": {
     "grade": false,
     "grade_id": "cell-c6ac605270c2b091",
     "locked": true,
     "schema_version": 1,
     "solution": false
    }
   },
   "source": [
    "## Warmup - OOP in python\n",
    "\n",
    "Our desicion tree will be implemented using a dedicated python class. Python classes are very similar to classes in Java.\n",
    "\n",
    "\n",
    "You can use the following [site](https://jeffknupp.com/blog/2014/06/18/improve-your-python-python-classes-and-object-oriented-programming/) to learn about classes in python."
   ]
  },
  {
   "cell_type": "code",
   "execution_count": 2,
   "metadata": {},
   "outputs": [],
   "source": [
    "class Node(object):\n",
    "    def __init__(self, data):\n",
    "        self.data = data\n",
    "        self.children = []\n",
    "\n",
    "    def add_child(self, node):\n",
    "        self.children.append(node)"
   ]
  },
  {
   "cell_type": "code",
   "execution_count": 3,
   "metadata": {},
   "outputs": [
    {
     "data": {
      "text/plain": [
       "[<__main__.Node at 0x18289c80048>, <__main__.Node at 0x1828bdfeac8>]"
      ]
     },
     "execution_count": 3,
     "metadata": {},
     "output_type": "execute_result"
    }
   ],
   "source": [
    "n = Node(5)\n",
    "p = Node(6)\n",
    "q = Node(7)\n",
    "n.add_child(p)\n",
    "n.add_child(q)\n",
    "n.children"
   ]
  },
  {
   "cell_type": "markdown",
   "metadata": {
    "nbgrader": {
     "grade": false,
     "grade_id": "cell-2f1ceb251c649b62",
     "locked": true,
     "schema_version": 1,
     "solution": false
    }
   },
   "source": [
    "## Data preprocessing\n",
    "\n",
    "For the following exercise, we will use a dataset containing mushroom data `agaricus-lepiota.csv`. \n",
    "\n",
    "This data set includes descriptions of hypothetical samples corresponding to 23 species of gilled mushrooms in the Agaricus and Lepiota Family. Each species is identified as definitely edible, definitely poisonous, or of unknown edibility and not recommended. This latter class was combined with the poisonous\n",
    "one (=there are only two classes **edible** and **poisonous**). \n",
    "    \n",
    "The dataset contains 8124 observations with 22 features:\n",
    "1. cap-shape: bell=b,conical=c,convex=x,flat=f,knobbed=k,sunken=s\n",
    "2. cap-surface: fibrous=f,grooves=g,scaly=y,smooth=s\n",
    "3. cap-color: brown=n,buff=b,cinnamon=c,gray=g,green=r,pink=p,purple=u,red=e,white=w,yellow=y\n",
    "4. bruises: bruises=t,no=f\n",
    "5. odor: almond=a,anise=l,creosote=c,fishy=y,foul=f, musty=m,none=n,pungent=p,spicy=s\n",
    "6. gill-attachment: attached=a,descending=d,free=f,notched=n\n",
    "7. gill-spacing: close=c,crowded=w,distant=d\n",
    "8. gill-size: broad=b,narrow=n\n",
    "9. gill-color: black=k,brown=n,buff=b,chocolate=h,gray=g,green=r,orange=o,pink=p,purple=u,red=e,white=w,yellow=y\n",
    "10. stalk-shape: enlarging=e,tapering=t\n",
    "11. stalk-root: bulbous=b,club=c,cup=u,equal=e,rhizomorphs=z,rooted=r\n",
    "12. stalk-surface-above-ring: fibrous=f,scaly=y,silky=k,smooth=s\n",
    "13. stalk-surface-below-ring: fibrous=f,scaly=y,silky=k,smooth=s\n",
    "14. stalk-color-above-ring: brown=n,buff=b,cinnamon=c,gray=g,orange=o,pink=p,red=e,white=w,yellow=y\n",
    "15. stalk-color-below-ring: brown=n,buff=b,cinnamon=c,gray=g,orange=o,pink=p,red=e,white=w,yellow=y\n",
    "16. veil-type: partial=p,universal=u\n",
    "17. veil-color: brown=n,orange=o,white=w,yellow=y\n",
    "18. ring-number: none=n,one=o,two=t\n",
    "19. ring-type: cobwebby=c,evanescent=e,flaring=f,large=l,none=n,pendant=p,sheathing=s,zone=z\n",
    "20. spore-print-color: black=k,brown=n,buff=b,chocolate=h,green=r,orange=o,purple=u,white=w,yellow=y\n",
    "21. population: abundant=a,clustered=c,numerous=n,scattered=s,several=v,solitary=y\n",
    "22. habitat: grasses=g,leaves=l,meadows=m,paths=p,urban=u,waste=w,woods=d\n",
    "\n",
    "First, we will read and explore the data using pandas and the `.read_csv` method. Pandas is an open source library providing high-performance, easy-to-use data structures and data analysis tools for the Python programming language."
   ]
  },
  {
   "cell_type": "code",
   "execution_count": 4,
   "metadata": {
    "nbgrader": {
     "grade": false,
     "grade_id": "cell-d79cb4542926ad3f",
     "locked": true,
     "schema_version": 1,
     "solution": false
    }
   },
   "outputs": [],
   "source": [
    "# load dataset\n",
    "data = pd.read_csv('agaricus-lepiota.csv')"
   ]
  },
  {
   "cell_type": "markdown",
   "metadata": {},
   "source": [
    "One of the advantages of the Decision Tree algorithm is that almost no preprocessing is required. However, finding missing values is always required."
   ]
  },
  {
   "cell_type": "code",
   "execution_count": 5,
   "metadata": {},
   "outputs": [],
   "source": [
    "#############################################################################\n",
    "# TODO: Find the column\\s with missing values and remove them from the data.#\n",
    "#############################################################################\n",
    "data = data.dropna()\n",
    "#############################################################################\n",
    "#                             END OF YOUR CODE                              #\n",
    "#############################################################################"
   ]
  },
  {
   "cell_type": "markdown",
   "metadata": {},
   "source": [
    "We will split the dataset to `Training` and `Test` sets"
   ]
  },
  {
   "cell_type": "code",
   "execution_count": 6,
   "metadata": {},
   "outputs": [
    {
     "name": "stdout",
     "output_type": "stream",
     "text": [
      "Training dataset shape:  (6093, 22)\n",
      "Testing dataset shape:  (2031, 22)\n"
     ]
    }
   ],
   "source": [
    "from sklearn.model_selection import train_test_split\n",
    "# Making sure the last column will hold the labels\n",
    "X, y = data.drop('class', axis=1), data['class']\n",
    "X = np.column_stack([X,y])\n",
    "# split dataset using random_state to get the same split each time\n",
    "X_train, X_test = train_test_split(X, random_state=99)\n",
    "\n",
    "print(\"Training dataset shape: \", X_train.shape)\n",
    "print(\"Testing dataset shape: \", X_test.shape)"
   ]
  },
  {
   "cell_type": "code",
   "execution_count": 7,
   "metadata": {},
   "outputs": [
    {
     "data": {
      "text/plain": [
       "(8124,)"
      ]
     },
     "execution_count": 7,
     "metadata": {},
     "output_type": "execute_result"
    }
   ],
   "source": [
    "y.shape"
   ]
  },
  {
   "cell_type": "markdown",
   "metadata": {
    "nbgrader": {
     "grade": false,
     "grade_id": "cell-fd7b0191f3f1e897",
     "locked": true,
     "schema_version": 1,
     "solution": false
    }
   },
   "source": [
    "## Impurity Measures\n",
    "\n",
    "(5 points each - 10 points total)\n",
    "\n",
    "Impurity is a measure of how often a randomly chosen element from the set would be incorrectly labeled if it was randomly labeled according to the distribution of labels in the subset. Implement the functions `calc_gini` and `calc_entropy`. You are encouraged to test your implementation."
   ]
  },
  {
   "cell_type": "code",
   "execution_count": 8,
   "metadata": {},
   "outputs": [],
   "source": [
    "def calc_gini(data):\n",
    "    \"\"\"\n",
    "    Calculate gini impurity measure of a dataset.\n",
    " \n",
    "    Input:\n",
    "    - data: any dataset where the last column holds the labels.\n",
    " \n",
    "    Returns the gini impurity.    \n",
    "    \"\"\"\n",
    "    gini = 0.0\n",
    "    ###########################################################################\n",
    "    # TODO: Implement the function.                                           #\n",
    "    ###########################################################################\n",
    "    unique, counts = np.unique(data[:,-1], return_counts=True)\n",
    "    summed = len(data[:,-1])\n",
    "    gini = 1 - np.sum(np.power(counts/summed, 2))\n",
    "    ###########################################################################\n",
    "    #                             END OF YOUR CODE                            #\n",
    "    ###########################################################################\n",
    "    return gini"
   ]
  },
  {
   "cell_type": "code",
   "execution_count": 9,
   "metadata": {},
   "outputs": [],
   "source": [
    "def calc_entropy(data):\n",
    "    \"\"\"\n",
    "    Calculate the entropy of a dataset.\n",
    "\n",
    "    Input:\n",
    "    - data: any dataset where the last column holds the labels.\n",
    "\n",
    "    Returns the entropy of the dataset.    \n",
    "    \"\"\"\n",
    "    entropy = 0.0\n",
    "    ###########################################################################\n",
    "    # TODO: Implement the function.                                           #\n",
    "    ###########################################################################\n",
    "    unique, counts = np.unique(data[:,-1], return_counts=True)\n",
    "    summed = len(data[:,-1])\n",
    "    entropy = 0 - np.sum((counts/summed)*np.log2(counts/summed))\n",
    "    ###########################################################################\n",
    "    #                             END OF YOUR CODE                            #\n",
    "    ###########################################################################\n",
    "    return entropy"
   ]
  },
  {
   "cell_type": "code",
   "execution_count": 10,
   "metadata": {
    "scrolled": true
   },
   "outputs": [
    {
     "data": {
      "text/plain": [
       "(0.4995636322379775, 0.9993703627906085)"
      ]
     },
     "execution_count": 10,
     "metadata": {},
     "output_type": "execute_result"
    }
   ],
   "source": [
    "##### Your Tests Here #####\n",
    "calc_gini(X), calc_entropy(X)"
   ]
  },
  {
   "cell_type": "markdown",
   "metadata": {},
   "source": [
    "## Goodness of Split\n",
    "\n",
    "(10 Points)\n",
    "\n",
    "Given a feature the Goodnees of Split measures the reduction in the impurity if we split the data according to the feature.\n",
    "$$\n",
    "\\Delta\\varphi(S, A) = \\varphi(S) - \\sum_{v\\in Values(A)} \\frac{|S_v|}{|S|}\\varphi(S_v)\n",
    "$$\n",
    "\n",
    "In our implementation the goodness_of_split function will return either the Goodness of Split or the Gain Ratio as learned in class. You'll control the return value with the `gain_ratio` parameter. If this parameter will set to False (the default value) it will return the regular Goodness of Split. If it will set to True it will return the Gain Ratio.\n",
    "$$\n",
    "GainRatio(S,A)=\\frac{InformationGain(S,A)}{SplitInformation(S,A)}\n",
    "$$\n",
    "Where:\n",
    "$$\n",
    "InformationGain(S,A)=Goodness\\ of\\ Split\\ calculated\\ with\\ Entropy\\ as\\ the\\ Impurity\\ function \\\\\n",
    "SplitInformation(S,A)=- \\sum_{a\\in A} \\frac{|S_a|}{|S|}\\log\\frac{|S_a|}{|S|}\n",
    "$$\n",
    "NOTE: you can add more parameters to the function and you can also add more returning variables (The given parameters and the given returning variable should not be touch)."
   ]
  },
  {
   "cell_type": "code",
   "execution_count": 11,
   "metadata": {},
   "outputs": [],
   "source": [
    "def goodness_of_split(data, feature, impurity_func, gain_ratio=False):\n",
    "    \"\"\"\n",
    "    Calculate the goodness of split of a dataset given a feature and impurity function.\n",
    "\n",
    "    Input:\n",
    "    - data: any dataset where the last column holds the labels.\n",
    "    - feature: the feature index.\n",
    "    - impurity func: a function that calculates the impurity.\n",
    "    - gain_ratio: goodness of split or gain ratio flag.\n",
    "\n",
    "    Returns the goodness of split (or the Gain Ration).  \n",
    "    \"\"\"\n",
    "    ###########################################################################\n",
    "    # TODO: Implement the function.                                           #\n",
    "    ###########################################################################\n",
    "    if gain_ratio:\n",
    "        impurity_func = calc_entropy\n",
    "    goodnessOfS = impurity_func(data)\n",
    "    goodness = goodnessOfS\n",
    "    unique, counts = np.unique(data[:,feature], return_counts=True)\n",
    "    Svs = dict(zip(unique,counts))\n",
    "    npFeaturesValueProb = counts/sum(counts)\n",
    "    for key in Svs.keys():\n",
    "        Sv = (Svs[key]/len(data[:,-1]))*impurity_func(data[data[:,feature] == key])\n",
    "        goodness = goodness - Sv\n",
    "    if  gain_ratio == True:\n",
    "        if goodnessOfS == 0:\n",
    "            goodness = 0\n",
    "        else:\n",
    "            goodnessOfS = (-1) * np.sum(np.dot((npFeaturesValueProb),np.log2(npFeaturesValueProb)))\n",
    "            goodness = goodness / goodnessOfS\n",
    "    ###########################################################################\n",
    "    #                             END OF YOUR CODE                            #\n",
    "    ###########################################################################\n",
    "    return goodness    "
   ]
  },
  {
   "cell_type": "markdown",
   "metadata": {},
   "source": [
    "## Building a Decision Tree\n",
    "\n",
    "(30 points)\n",
    "\n",
    "Use a Python class to construct the decision tree. Your class should support the following functionality:\n",
    "\n",
    "1. Initiating a node for a decision tree. You will need to use several class methods and class attributes and you are free to use them as you see fit. We recommend that every node will hold the feature and value used for the split and its children.\n",
    "2. Your code should support both Gini and Entropy as impurity measures. \n",
    "3. The provided data includes categorical data. In this exercise, when splitting a node create the number of children needed according to the attribute unique values.\n",
    "\n",
    "Complete the class `DecisionNode`. The structure of this class is entirely up to you. \n",
    "\n",
    "Complete the function `build_tree`. This function should get the training dataset and the impurity as inputs, initiate a root for the decision tree and construct the tree according to the procedure you learned in class."
   ]
  },
  {
   "cell_type": "code",
   "execution_count": 12,
   "metadata": {},
   "outputs": [],
   "source": [
    "class DecisionNode:\n",
    "\n",
    "    # This class will hold everything you require to construct a decision tree.\n",
    "    # The structure of this class is up to you. However, you need to support basic \n",
    "    # functionality as described above. It is highly recommended that you \n",
    "    # first read and understand the entire exercise before diving into this class.\n",
    "    \n",
    "    # DecisionNode initialize method\n",
    "    def __init__(self, parentFeature = 'ROOT', value = None, parents = {}, negative = 'e', positive ='p'):\n",
    "        self.parentFeature = parentFeature # column index of criteria being teste\n",
    "        self.value = value\n",
    "        self.children = []\n",
    "        self.pred = None\n",
    "        self.parents = parents.copy()\n",
    "        self.currentFeature = 'leaf'\n",
    "        self.positive = positive\n",
    "        self.negative = negative\n",
    "        self.p = 0\n",
    "        self.e = 0 \n",
    "        if parentFeature != 'ROOT':\n",
    "            self.parents[parentFeature] = True\n",
    "\n",
    "    # adds a given DecisionNode as a child to current DecisionNode\n",
    "    def add_child(self, node):\n",
    "        self.children.append(node)\n",
    "\n",
    "    # adds all the children of the current DecisionNode to the tree\n",
    "    def add_all_children(self, data, impurity, gain_ratio, max_depth, chi, chi_table):\n",
    "         # all options of features\n",
    "        unique, counts = np.unique(data[:,self.currentFeature], return_counts=True)\n",
    "        for attribute in unique:\n",
    "            node_data = data[data[:,self.currentFeature] == attribute]\n",
    "            Node = DecisionNode(self.currentFeature, attribute, self.parents)\n",
    "            self.add_child(Node)\n",
    "            if Node.is_pure(node_data):\n",
    "                continue\n",
    "            Node.set_prediction(node_data)\n",
    "            Node.build_Subtree(node_data, impurity, gain_ratio, max_depth - 1, chi, chi_table)\n",
    "\n",
    "    # setts the best feature to devide the tree by (by using goodness_of_split method) \n",
    "    def set_current_feature(self, data, impurity, gain_ratio):\n",
    "        #data length\n",
    "        lenF = len(data[0,:-1])\n",
    "        best_feature = 'leaf'\n",
    "        best_goodness = 0\n",
    "        if len(self.parents.keys()) == lenF:\n",
    "            return\n",
    "        for feature in range(lenF):\n",
    "            if feature in self.parents.keys():\n",
    "                continue\n",
    "            current_goodness = goodness_of_split(data, feature, impurity, gain_ratio)\n",
    "            if current_goodness > best_goodness:\n",
    "                best_feature = feature\n",
    "                best_goodness = current_goodness\n",
    "        self.currentFeature = best_feature \n",
    "\n",
    "    # builds the subtree of every DecisionNode\n",
    "    def build_Subtree(self, data, impurity, gain_ratio, max_depth, chi, chi_table=None):\n",
    "        if max_depth <= 0:\n",
    "            return\n",
    "        self.set_current_feature(data, impurity, gain_ratio)\n",
    "        if chi_table != None and chi < 1 and self.currentFeature != 'leaf':\n",
    "            self.chi_calc(data, chi, chi_table)\n",
    "        if self.currentFeature == 'leaf':\n",
    "            return\n",
    "        self.add_all_children(data, impurity, gain_ratio, max_depth, chi, chi_table)\n",
    "\n",
    "    # returns True iff DecisionNode is pure (defines only one type of instances)\n",
    "    def is_pure(self, data):\n",
    "        # uniqhe = np.unique(data[:, -1])\n",
    "        unique, counts = np.unique(data[:,-1], return_counts=True)\n",
    "        if len(unique) == 1:\n",
    "            self.pred = unique[0]\n",
    "            if unique[0] == self.positive:\n",
    "                self.p = counts[0]\n",
    "            else:\n",
    "                self.e = counts[0]\n",
    "            return True\n",
    "        else:\n",
    "            return False\n",
    "\n",
    "    # setts the prediction type of the DecisionNode by finding most dominant type of instance\n",
    "    def set_prediction(self, data):\n",
    "        unique, counts = np.unique(data[:,-1], return_counts=True)\n",
    "        Svs = dict(zip(unique,counts))\n",
    "        self.pred = max(Svs, key=Svs.get)\n",
    "        self.p = Svs[self.positive]\n",
    "        self.e = Svs[self.negative]\n",
    "    \n",
    "    # returns True iff the DecisionNode shouldn't be devided by this feature\n",
    "    def chi_calc(self, data, chi, chi_table=None):\n",
    "        sum_pe = self.p + self.e\n",
    "        p_Y_p = self.p / sum_pe\n",
    "        p_Y_n = self.e / sum_pe\n",
    "        attributes, D_f = np.unique(data[:,self.currentFeature], return_counts=True)\n",
    "        Svs = dict(zip(attributes, D_f))\n",
    "        Chi_squared = 0\n",
    "        for attribute in attributes:  \n",
    "            attribute_data = data[data[:,self.currentFeature] == attribute]\n",
    "            unique, pn_f = np.unique(attribute_data[:,-1], return_counts=True)\n",
    "            pn_f_dict = dict(zip(unique, pn_f))\n",
    "            p_f = 0\n",
    "            n_f = 0\n",
    "            if self.positive in pn_f_dict:\n",
    "                p_f = pn_f_dict[self.positive]\n",
    "            if self.negative in pn_f_dict:\n",
    "                n_f = pn_f_dict[self.negative]\n",
    "            E_p = Svs[attribute] * p_Y_p\n",
    "            E_n = Svs[attribute] * p_Y_n\n",
    "            Chi_squared = Chi_squared + ((p_f - E_p)**2)/E_p + ((n_f - E_n)**2)/E_n\n",
    "        if chi_table[len(attributes)][chi] >= Chi_squared:\n",
    "            self.currentFeature = 'leaf'    \n",
    "\n",
    "    # returns the depth of the tree (the longest path between root and leaf)\n",
    "    def get_max_depth(self):\n",
    "        max_depth = 0\n",
    "        for child in self.children:\n",
    "            child_depth = child.get_max_depth()\n",
    "            if child_depth > max_depth:\n",
    "                max_depth = child_depth\n",
    "        return max_depth + 1\n",
    "        \n",
    "    # counts the number of nodes in the tree \n",
    "    # Have to add 1 to the $count to count root\n",
    "    def count_number_of_nodes(self):\n",
    "        count = 1\n",
    "        for child in self.children:\n",
    "           count = count + child.count_number_of_nodes()\n",
    "        return count\n",
    "\n",
    "    # returns an output version of the current tree\n",
    "    def toString(self, number_of_ident = 0):\n",
    "        return_string = f\"{self.format_tree_string()}\\n\"\n",
    "        for child in self.children:\n",
    "            for i in range(number_of_ident):\n",
    "                return_string = f\"{return_string}\\t\"\n",
    "            return_string = f\"{return_string}{child.toString(number_of_ident + 1)}\"\n",
    "        return return_string\n",
    "\n",
    "    # returns output version of the current node     \n",
    "    def format_tree_string(self):\n",
    "        parent = \"\"\n",
    "        child = \"\"\n",
    "        if self.parentFeature == 'ROOT':\n",
    "            parent = parent + \"[ROOT, \"\n",
    "        else:\n",
    "            parent = parent + f\"[X{self.parentFeature}={self.value}, \"\n",
    "        if self.currentFeature == 'leaf':\n",
    "            child = child + \"leaf]: [{\"\n",
    "            if self.p > 0:\n",
    "                child = child + f\"1.0:{self.p}\"\n",
    "            if self.p > 0 and self.e > 0:\n",
    "                child = child + \", \"\n",
    "            if self.e > 0:\n",
    "                child = child + f\"0.0:{self.e}\"\n",
    "            child = child + \"}]\"\n",
    "        else:\n",
    "            child = f'feature=X{self.currentFeature}]'\n",
    "        return f\"{parent}{child}\""
   ]
  },
  {
   "cell_type": "code",
   "execution_count": 13,
   "metadata": {},
   "outputs": [],
   "source": [
    "def build_tree(data, impurity, gain_ratio=False, chi=1, max_depth=1000, chi_table=None):\n",
    "    \"\"\"\n",
    "    Build a tree using the given impurity measure and training dataset. \n",
    "    You are required to fully grow the tree until all leaves are pure. \n",
    "\n",
    "    Input:\n",
    "    - data: the training dataset.\n",
    "    - impurity: the chosen impurity measure. Notice that you can send a function\n",
    "                as an argument in python.\n",
    "    - gain_ratio: goodness of split or gain ratio flag\n",
    "\n",
    "    Output: the root node of the tree.\n",
    "    \"\"\"\n",
    "    root = None\n",
    "    ###########################################################################\n",
    "    # TODO: Implement the function.                                           #\n",
    "    ###########################################################################\n",
    "    root = DecisionNode()\n",
    "    if root.is_pure(data) == False:\n",
    "        root.set_prediction(data)\n",
    "        root.build_Subtree(data, impurity, gain_ratio, max_depth - 1, chi, chi_table)  \n",
    "    ###########################################################################\n",
    "    #                             END OF YOUR CODE                            #\n",
    "    ###########################################################################\n",
    "    return root"
   ]
  },
  {
   "cell_type": "code",
   "execution_count": 14,
   "metadata": {},
   "outputs": [],
   "source": [
    "# python support passing a function as arguments to another function.\n",
    "tree_gini = build_tree(data=X_train, impurity=calc_gini) # gini and goodness of split\n",
    "tree_entropy = build_tree(data=X_train, impurity=calc_entropy) # entropy and goodness of split\n",
    "tree_entropy_gain_ratio = build_tree(data=X_train, impurity=calc_entropy, gain_ratio=True) # entropy and gain ratio"
   ]
  },
  {
   "cell_type": "markdown",
   "metadata": {},
   "source": [
    "## Tree evaluation\n",
    "\n",
    "(10 points) \n",
    "\n",
    "Complete the functions `predict` and `calc_accuracy`. "
   ]
  },
  {
   "cell_type": "code",
   "execution_count": 15,
   "metadata": {},
   "outputs": [],
   "source": [
    "def predict(node, instance):\n",
    "    \"\"\"\n",
    "    Predict a given instance using the decision tree\n",
    " \n",
    "    Input:\n",
    "    - root: the root of the decision tree.\n",
    "    - instance: an row vector from the dataset. Note that the last element \n",
    "                of this vector is the label of the instance.\n",
    " \n",
    "    Output: the prediction of the instance.\n",
    "    \"\"\"\n",
    "    pred = None\n",
    "    ###########################################################################\n",
    "    # TODO: Implement the function.                                           #\n",
    "    ###########################################################################\n",
    "    if len(node.children) > 0:\n",
    "        for child in node.children:\n",
    "            if child.value == instance[node.currentFeature]:\n",
    "                return predict(child, instance) \n",
    "    ###########################################################################\n",
    "    #                             END OF YOUR CODE                            #\n",
    "    ###########################################################################\n",
    "    return node.pred"
   ]
  },
  {
   "cell_type": "code",
   "execution_count": 16,
   "metadata": {},
   "outputs": [],
   "source": [
    "def calc_accuracy(node, dataset):\n",
    "    \"\"\"\n",
    "    Predict a given dataset using the decision tree\n",
    " \n",
    "    Input:\n",
    "    - node: a node in the decision tree.\n",
    "    - dataset: the dataset on which the accuracy is evaluated\n",
    " \n",
    "    Output: the accuracy of the decision tree on the given dataset (%).\n",
    "    \"\"\"\n",
    "    accuracy = 0\n",
    "    ###########################################################################\n",
    "    # TODO: Implement the function.                                           #\n",
    "    ###########################################################################\n",
    "    sumData = 0\n",
    "    for instance in dataset:\n",
    "        if predict(node, instance) == instance[-1]:\n",
    "            sumData = sumData + 1\n",
    "    accuracy = sumData / len(dataset) * 100\n",
    "    ###########################################################################\n",
    "    #                             END OF YOUR CODE                            #\n",
    "    ###########################################################################\n",
    "    return accuracy "
   ]
  },
  {
   "cell_type": "markdown",
   "metadata": {},
   "source": [
    "After building the three trees using the training set, you should calculate the accuracy on the test set. For each tree print the training and test accuracy. Select the tree that gave you the best test accuracy. For the rest of the exercise, use that tree (when you asked to build another tree use the same impurity function and same gain_ratio flag). "
   ]
  },
  {
   "cell_type": "code",
   "execution_count": 17,
   "metadata": {},
   "outputs": [
    {
     "name": "stdout",
     "output_type": "stream",
     "text": [
      "99.24503528639423\n",
      "77.5972427375677\n",
      "99.40915805022156\n",
      "77.30182176267849\n",
      "99.63892991957984\n",
      "78.58197932053176\n"
     ]
    }
   ],
   "source": [
    "#### Your code here ####\n",
    "print(calc_accuracy(tree_gini, X_train))\n",
    "print(calc_accuracy(tree_gini, X_test))\n",
    "print(calc_accuracy(tree_entropy, X_train))\n",
    "print(calc_accuracy(tree_entropy, X_test))\n",
    "print(calc_accuracy(tree_entropy_gain_ratio, X_train))\n",
    "print(calc_accuracy(tree_entropy_gain_ratio, X_test))"
   ]
  },
  {
   "cell_type": "markdown",
   "metadata": {},
   "source": [
    "## Depth pruning\n",
    "\n",
    "(15 points)\n",
    "\n",
    "Consider the following max_depth values: [1, 2, 3, 4, 5, 6, 7, 8, 9, 10]. For each value, construct a tree and prune it according to the max_depth value = don't let the tree to grow beyond this depth. Next, calculate the training and testing accuracy.<br>\n",
    "On a single plot, draw the training and testing accuracy as a function of the max_depth. Mark the best result on the graph with red circle."
   ]
  },
  {
   "cell_type": "code",
   "execution_count": 18,
   "metadata": {},
   "outputs": [
    {
     "data": {
      "image/png": "[encoded data removed]",
      "text/plain": [
       "<Figure size 432x288 with 1 Axes>"
      ]
     },
     "metadata": {
      "needs_background": "light"
     },
     "output_type": "display_data"
    }
   ],
   "source": [
    "#### Your code here ####\n",
    "train_accuracy = []\n",
    "test_accuracy = []\n",
    "for i in range(1,11):\n",
    "    i_tree = build_tree(X_train, calc_entropy, True, 1, i)\n",
    "    train_accuracy.append(calc_accuracy(i_tree,X_train))\n",
    "    test_accuracy.append(calc_accuracy(i_tree,X_test))\n",
    "max_Depth_Element = np.amax(test_accuracy)\n",
    "max_Depth_Key = np.where(test_accuracy == np.amax(test_accuracy))[0][0] + 1\n",
    "plt.plot(np.arange(1,11), train_accuracy)\n",
    "plt.plot(np.arange(1,11), test_accuracy)\n",
    "plt.plot(max_Depth_Key,max_Depth_Element, 'ro', markersize=10)\n",
    "plt.xscale('linear')\n",
    "plt.xlabel('Max Depth')\n",
    "plt.ylabel('Calc Accuracy %')\n",
    "plt.title('Calc Accuracy as a function of Max Depth')\n",
    "plt.legend([\"Train Accuracy\", \"Test Accuracy\"])\n",
    "plt.show()"
   ]
  },
  {
   "cell_type": "markdown",
   "metadata": {},
   "source": [
    "## Chi square pre-pruning\n",
    "\n",
    "(15 points)\n",
    "\n",
    "Consider the following p-value cut-off values: [1 (no pruning), 0.5, 0.25, 0.1, 0.05, 0.0001 (max pruning)]. For each value, construct a tree and prune it according to the cut-off value. Next, calculate the training and testing accuracy. <br>\n",
    "On a single plot, draw the training and testing accuracy as a function of the tuple (p-value, tree depth). Mark the best result on the graph with red circle."
   ]
  },
  {
   "cell_type": "code",
   "execution_count": 19,
   "metadata": {},
   "outputs": [],
   "source": [
    "### Chi square table values ###\n",
    "# The first key is the degree of freedom \n",
    "# The second key is the p-value cut-off\n",
    "# The values are the chi-statistic that you need to use in the pruning\n",
    "chi_table = {1: {0.5 : 0.45,\n",
    "                 0.25 : 1.32,\n",
    "                 0.1 : 2.71,\n",
    "                 0.05 : 3.84,\n",
    "                 0.0001 : 100000},\n",
    "             2: {0.5 : 1.39,\n",
    "                 0.25 : 2.77,\n",
    "                 0.1 : 4.60,\n",
    "                 0.05 : 5.99,\n",
    "                 0.0001 : 100000},\n",
    "             3: {0.5 : 2.37,\n",
    "                 0.25 : 4.11,\n",
    "                 0.1 : 6.25,\n",
    "                 0.05 : 7.82,\n",
    "                 0.0001 : 100000},\n",
    "             4: {0.5 : 3.36,\n",
    "                 0.25 : 5.38,\n",
    "                 0.1 : 7.78,\n",
    "                 0.05 : 9.49,\n",
    "                 0.0001 : 100000},\n",
    "             5: {0.5 : 4.35,\n",
    "                 0.25 : 6.63,\n",
    "                 0.1 : 9.24,\n",
    "                 0.05 : 11.07,\n",
    "                 0.0001 : 100000},\n",
    "             6: {0.5 : 5.35,\n",
    "                 0.25 : 7.84,\n",
    "                 0.1 : 10.64,\n",
    "                 0.05 : 12.59,\n",
    "                 0.0001 : 100000},\n",
    "             7: {0.5 : 6.35,\n",
    "                 0.25 : 9.04,\n",
    "                 0.1 : 12.01,\n",
    "                 0.05 : 14.07,\n",
    "                 0.0001 : 100000},\n",
    "             8: {0.5 : 7.34,\n",
    "                 0.25 : 10.22,\n",
    "                 0.1 : 13.36,\n",
    "                 0.05 : 15.51,\n",
    "                 0.0001 : 100000},\n",
    "             9: {0.5 : 8.34,\n",
    "                 0.25 : 11.39,\n",
    "                 0.1 : 14.68,\n",
    "                 0.05 : 16.92,\n",
    "                 0.0001 : 100000},\n",
    "             10: {0.5 : 9.34,\n",
    "                  0.25 : 12.55,\n",
    "                  0.1 : 15.99,\n",
    "                  0.05 : 18.31,\n",
    "                  0.0001 : 100000},\n",
    "             11: {0.5 : 10.34,\n",
    "                  0.25 : 13.7,\n",
    "                  0.1 : 17.27,\n",
    "                  0.05 : 19.68,\n",
    "                  0.0001 : 100000}}"
   ]
  },
  {
   "cell_type": "code",
   "execution_count": 20,
   "metadata": {},
   "outputs": [
    {
     "data": {
      "image/png": "[encoded data removed]",
      "text/plain": [
       "<Figure size 432x288 with 1 Axes>"
      ]
     },
     "metadata": {
      "needs_background": "light"
     },
     "output_type": "display_data"
    }
   ],
   "source": [
    "#### Your code here ####\n",
    "train_accuracy = []\n",
    "test_accuracy = []\n",
    "cut_off = [1, 0.5, 0.25, 0.1, 0.05, 0.0001]\n",
    "tree_depth = []\n",
    "for chi in cut_off:\n",
    "    chi_tree = build_tree(X_train, calc_entropy, True, chi, 1000, chi_table)\n",
    "    tree_depth.append(chi_tree.get_max_depth())\n",
    "    train_accuracy.append(calc_accuracy(chi_tree,X_train))\n",
    "    test_accuracy.append(calc_accuracy(chi_tree,X_test))\n",
    "axis_x = [(cut_off[i], tree_depth[i]) for i in range(0, len(cut_off))]\n",
    "max_Chi_Element = np.amax(test_accuracy)\n",
    "max_Chi_Key = cut_off[np.where(test_accuracy == np.amax(test_accuracy))[0][0]]\n",
    "plt.xticks(cut_off, axis_x)\n",
    "plt.xticks(rotation=90)\n",
    "plt.plot(cut_off, train_accuracy)\n",
    "plt.plot(cut_off, test_accuracy)\n",
    "plt.plot(max_Chi_Key,max_Chi_Element, 'ro', markersize=10)\n",
    "plt.xlabel('(p-value, tree depth)')\n",
    "plt.ylabel('Calc Accuracy %')\n",
    "plt.title('Calc Accuracy as a function of (p-value, tree depth)')\n",
    "plt.legend([\"Train Accuracy\", \"Test Accuracy\"])\n",
    "plt.show()"
   ]
  },
  {
   "cell_type": "markdown",
   "metadata": {},
   "source": [
    "Build the best 2 trees:\n",
    "1. tree_max_depth - the best tree according to max_depth pruning\n",
    "1. tree_chi - the best tree according to chi square pruning"
   ]
  },
  {
   "cell_type": "code",
   "execution_count": 21,
   "metadata": {},
   "outputs": [],
   "source": [
    "#### Your code here ####\n",
    "tree_max_depth = build_tree(X_train, calc_entropy, True, 1, max_Depth_Key)\n",
    "tree_chi = build_tree(X_train, calc_entropy, True, max_Chi_Key, 1000, chi_table)"
   ]
  },
  {
   "cell_type": "markdown",
   "metadata": {},
   "source": [
    "## Number of Nodes\n",
    "\n",
    "(5 points) \n",
    "\n",
    "Of the two trees above we will choose the one with fewer nodes.\n",
    "\n",
    "Complete the function counts_nodes and print the number of nodes in each tree"
   ]
  },
  {
   "cell_type": "code",
   "execution_count": 22,
   "metadata": {},
   "outputs": [
    {
     "name": "stdout",
     "output_type": "stream",
     "text": [
      "Number of nodes in tree_max_depth is 205\n",
      "Number of nodes in tree_chi is 41\n"
     ]
    }
   ],
   "source": [
    "def count_nodes(node):\n",
    "    \"\"\"\n",
    "    Count the number of node in a given tree\n",
    " \n",
    "    Input:\n",
    "    - node: a node in the decision tree.\n",
    " \n",
    "    Output: the number of node in the tree.\n",
    "    \"\"\"\n",
    "    ###########################################################################\n",
    "    # TODO: Implement the function.                                           #\n",
    "    ###########################################################################\n",
    "    return node.count_number_of_nodes()\n",
    "\n",
    "count_depth = count_nodes(tree_max_depth)\n",
    "count_chi = count_nodes(tree_chi)\n",
    "print(f\"Number of nodes in tree_max_depth is {count_depth}\")\n",
    "print(f\"Number of nodes in tree_chi is {count_chi}\")\n",
    "if count_depth < count_chi:\n",
    "    best_tree_toPrint = tree_max_depth\n",
    "else:\n",
    "    best_tree_toPrint = tree_chi\n",
    "    ###########################################################################\n",
    "    #                             END OF YOUR CODE                            #\n",
    "    ###########################################################################\n",
    "    "
   ]
  },
  {
   "cell_type": "markdown",
   "metadata": {},
   "source": [
    "## Print the tree\n",
    "\n",
    "(5 points)\n",
    "\n",
    "Complete the function `print_tree` and execute it on your chosen tree. Your code should do print:\n",
    "```\n",
    "[ROOT, feature=X0],\n",
    "  [X0=a, feature=X2]\n",
    "    [X2=c, leaf]: [{1.0: 10}]\n",
    "    [X2=d, leaf]: [{0.0: 10}]\n",
    "  [X0=y, feature=X5], \n",
    "       [X5=a, leaf]: [{1.0: 5}]\n",
    "       [X5=s, leaf]: [{0.0: 10}]\n",
    "  [X0=e, leaf]: [{0.0: 25, 1.0: 50}]\n",
    "```\n",
    "In each brackets:\n",
    "* The first argument is the parent feature with the value that led to current node\n",
    "* The second argument is the selected feature of the current node\n",
    "* If the current node is a leaf, you need to print also the labels and their counts"
   ]
  },
  {
   "cell_type": "code",
   "execution_count": 23,
   "metadata": {},
   "outputs": [
    {
     "name": "stdout",
     "output_type": "stream",
     "text": [
      "[ROOT, feature=X4]\n",
      "\t[X4=a, leaf]: [{1.0:31, 0.0:273}]\n",
      "\t[X4=c, leaf]: [{1.0:137, 0.0:10}]\n",
      "\t[X4=f, feature=X10]\n",
      "\t\t[X10=f, leaf]: [{1.0:91, 0.0:14}]\n",
      "\t\t[X10=k, leaf]: [{1.0:1037, 0.0:134}]\n",
      "\t\t[X10=s, leaf]: [{1.0:310, 0.0:22}]\n",
      "\t[X4=l, feature=X1]\n",
      "\t\t[X1=f, leaf]: [{1.0:1, 0.0:19}]\n",
      "\t\t[X1=s, leaf]: [{1.0:16, 0.0:94}]\n",
      "\t\t[X1=y, leaf]: [{1.0:10, 0.0:159}]\n",
      "\t[X4=m, leaf]: [{1.0:25, 0.0:2}]\n",
      "\t[X4=n, feature=X7]\n",
      "\t\t[X7=b, feature=X18]\n",
      "\t\t\t[X18=b, leaf]: [{1.0:2, 0.0:34}]\n",
      "\t\t\t[X18=k, leaf]: [{1.0:93, 0.0:843}]\n",
      "\t\t\t[X18=n, leaf]: [{1.0:105, 0.0:882}]\n",
      "\t\t\t[X18=o, leaf]: [{1.0:4, 0.0:28}]\n",
      "\t\t\t[X18=r, leaf]: [{1.0:46, 0.0:6}]\n",
      "\t\t\t[X18=w, leaf]: [{1.0:33, 0.0:369}]\n",
      "\t\t\t[X18=y, leaf]: [{1.0:3, 0.0:35}]\n",
      "\t\t[X7=n, feature=X3]\n",
      "\t\t\t[X3=f, feature=X10]\n",
      "\t\t\t\t[X10=f, leaf]: [{1.0:3, 0.0:17}]\n",
      "\t\t\t\t[X10=k, leaf]: [{1.0:25}]\n",
      "\t\t\t\t[X10=s, feature=X2]\n",
      "\t\t\t\t\t[X2=c, leaf]: [{0.0:10}]\n",
      "\t\t\t\t\t[X2=g, leaf]: [{1.0:1, 0.0:36}]\n",
      "\t\t\t\t\t[X2=n, leaf]: [{1.0:9, 0.0:37}]\n",
      "\t\t\t\t\t[X2=r, leaf]: [{1.0:4, 0.0:9}]\n",
      "\t\t\t\t\t[X2=u, leaf]: [{0.0:14}]\n",
      "\t\t\t\t\t[X2=w, leaf]: [{1.0:1, 0.0:12}]\n",
      "\t\t\t\t[X10=y, leaf]: [{1.0:7}]\n",
      "\t\t\t[X3=t, leaf]: [{1.0:8}]\n",
      "\t[X4=p, leaf]: [{1.0:175, 0.0:8}]\n",
      "\t[X4=s, feature=X13]\n",
      "\t\t[X13=p, leaf]: [{1.0:190, 0.0:12}]\n",
      "\t\t[X13=w, feature=X12]\n",
      "\t\t\t[X12=p, leaf]: [{1.0:88, 0.0:18}]\n",
      "\t\t\t[X12=w, leaf]: [{1.0:102, 0.0:8}]\n",
      "\t[X4=y, leaf]: [{1.0:382, 0.0:49}]\n",
      "\n"
     ]
    }
   ],
   "source": [
    "# you can change the function signeture\n",
    "def print_tree(node, depth=0, parent_feature='ROOT', feature_val='ROOT'):\n",
    "    '''\n",
    "    prints the tree according to the example above\n",
    "\n",
    "    Input:\n",
    "    - node: a node in the decision tree\n",
    "\n",
    "    This function has no return value\n",
    "    '''\n",
    "\n",
    "    ###########################################################################\n",
    "    # TODO: Implement the function.                                           #\n",
    "    ###########################################################################\n",
    "    print(node.toString(1))\n",
    "\n",
    "print_tree(best_tree_toPrint)\n",
    "    ###########################################################################\n",
    "    #                             END OF YOUR CODE                            #\n",
    "    ###########################################################################"
   ]
  }
 ],
 "metadata": {
  "celltoolbar": "Create Assignment",
  "kernelspec": {
   "display_name": "Python 3",
   "language": "python",
   "name": "python3"
  },
  "language_info": {
   "codemirror_mode": {
    "name": "ipython",
    "version": 3
   },
   "file_extension": ".py",
   "mimetype": "text/x-python",
   "name": "python",
   "nbconvert_exporter": "python",
   "pygments_lexer": "ipython3",
   "version": "3.7.3"
  }
 },
 "nbformat": 4,
 "nbformat_minor": 2
}